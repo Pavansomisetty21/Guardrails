{
 "cells": [
  {
   "cell_type": "code",
   "execution_count": 1,
   "id": "bd15436a-3f2c-4544-9796-3a13990b6a18",
   "metadata": {},
   "outputs": [
    {
     "name": "stderr",
     "output_type": "stream",
     "text": [
      "ERROR:guardrails-cli:'charmap' codec can't encode character '\\u2705' in position 0: character maps to <undefined>\n"
     ]
    },
    {
     "name": "stdout",
     "output_type": "stream",
     "text": [
      "There is a newer version of Guardrails available 0.6.3. Your current version is\n",
      "0.6.2!\n",
      "Installing hub://guardrails/secrets_present...\n"
     ]
    }
   ],
   "source": [
    "!guardrails hub install hub://guardrails/secrets_present --quiet\n"
   ]
  },
  {
   "cell_type": "markdown",
   "id": "8e33ff46-31a8-4f7a-af5f-9e2f6677cd94",
   "metadata": {},
   "source": [
    "## import packages "
   ]
  },
  {
   "cell_type": "code",
   "execution_count": 2,
   "id": "9762a96c-5bbd-40f3-be6b-43e450f83158",
   "metadata": {},
   "outputs": [],
   "source": [
    "import guardrails as gd\n",
    "from guardrails.hub import SecretsPresent"
   ]
  },
  {
   "cell_type": "markdown",
   "id": "e05127d2-6a3d-4412-b9af-7964651a6ad2",
   "metadata": {},
   "source": [
    "## Create a Guard object with this validator"
   ]
  },
  {
   "cell_type": "code",
   "execution_count": 3,
   "id": "5203ebd7-cb2a-42ea-866e-d5fe8508efbe",
   "metadata": {},
   "outputs": [],
   "source": [
    "\n",
    "guard = gd.Guard.for_string(\n",
    "    validators=[SecretsPresent(on_fail=\"fix\")],\n",
    "    description=\"testmeout\",\n",
    ")"
   ]
  },
  {
   "cell_type": "markdown",
   "id": "c801ad26-6404-4e0e-9a02-a6e800664aa9",
   "metadata": {},
   "source": [
    "## Let's run the validator on a dummy code snippet"
   ]
  },
  {
   "cell_type": "code",
   "execution_count": 4,
   "id": "8fec6f87-65f1-4fa5-88ca-0dcaffffdb24",
   "metadata": {},
   "outputs": [
    {
     "name": "stdout",
     "output_type": "stream",
     "text": [
      "\n",
      "import os\n",
      "import openai\n",
      "\n",
      "SECRET_TOKEN = \"********\"\n",
      "\n",
      "ADMIN_CREDENTIALS = {\"username\": \"admin\", \"password\": \"********\"}\n",
      "\n",
      "\n",
      "openai.api_key = \"********\"\n",
      "COHERE_API_KEY = \"********\"\n",
      "\n"
     ]
    },
    {
     "name": "stderr",
     "output_type": "stream",
     "text": [
      "C:\\Users\\PavanSomisetty\\anaconda3\\envs\\chatai\\Lib\\site-packages\\guardrails\\validator_service\\__init__.py:85: UserWarning: Could not obtain an event loop. Falling back to synchronous validation.\n",
      "  warnings.warn(\n"
     ]
    }
   ],
   "source": [
    "code_snippet = \"\"\"\n",
    "import os\n",
    "import openai\n",
    "\n",
    "SECRET_TOKEN = \"DUMMY_SECRET_TOKEN_abcdefgh\"\n",
    "\n",
    "ADMIN_CREDENTIALS = {\"username\": \"admin\", \"password\": \"dummy_admin_password\"}\n",
    "\n",
    "\n",
    "openai.api_key = \"sk-blT3BlbkFJo8bdtYwDLuZT\"\n",
    "COHERE_API_KEY = \"qdCUhtsCtnixTRfdrG\"\n",
    "\"\"\"\n",
    "\n",
    "# Parse the code snippet\n",
    "output = guard.parse(\n",
    "    llm_output=code_snippet,\n",
    ")\n",
    "\n",
    "# Print the output\n",
    "print(output.validated_output)"
   ]
  },
  {
   "cell_type": "code",
   "execution_count": null,
   "id": "f309e836-c609-4a9c-87f8-6e72ec5d4c63",
   "metadata": {},
   "outputs": [],
   "source": []
  },
  {
   "cell_type": "code",
   "execution_count": 5,
   "id": "0d97e5d9-3a56-485d-a6f7-8ae4f2266d7a",
   "metadata": {},
   "outputs": [
    {
     "name": "stdout",
     "output_type": "stream",
     "text": [
      "\n",
      "import os\n",
      "import openai\n",
      "\n",
      "companies = [\"google\", \"facebook\", \"amazon\", \"microsoft\", \"apple\"]\n",
      "for company in companies:\n",
      "    print(company)\n",
      "\n"
     ]
    }
   ],
   "source": [
    "# that does not contain any secrets\n",
    "code_snippet = \"\"\"\n",
    "import os\n",
    "import openai\n",
    "\n",
    "companies = [\"google\", \"facebook\", \"amazon\", \"microsoft\", \"apple\"]\n",
    "for company in companies:\n",
    "    print(company)\n",
    "\"\"\"\n",
    "\n",
    "# Parse the code snippet\n",
    "output = guard.parse(\n",
    "    llm_output=code_snippet,\n",
    ")\n",
    "\n",
    "# Print the output\n",
    "print(output.validated_output)"
   ]
  },
  {
   "cell_type": "code",
   "execution_count": null,
   "id": "80c3ebb7-2b82-4e8e-b078-e3c283421b24",
   "metadata": {},
   "outputs": [],
   "source": []
  }
 ],
 "metadata": {
  "kernelspec": {
   "display_name": "Python 3 (ipykernel)",
   "language": "python",
   "name": "python3"
  },
  "language_info": {
   "codemirror_mode": {
    "name": "ipython",
    "version": 3
   },
   "file_extension": ".py",
   "mimetype": "text/x-python",
   "name": "python",
   "nbconvert_exporter": "python",
   "pygments_lexer": "ipython3",
   "version": "3.12.8"
  }
 },
 "nbformat": 4,
 "nbformat_minor": 5
}

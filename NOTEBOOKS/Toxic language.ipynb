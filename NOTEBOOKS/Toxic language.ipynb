{
 "cells": [
  {
   "cell_type": "code",
   "execution_count": 1,
   "id": "2e1d4b65-67a4-41e5-9a2b-3e510f3d6f40",
   "metadata": {},
   "outputs": [
    {
     "name": "stdout",
     "output_type": "stream",
     "text": [
      "There is a newer version of Guardrails available 0.6.3. Your current version is\n",
      "0.6.2!\n",
      "Installing hub://guardrails/toxic_language...\n"
     ]
    },
    {
     "name": "stderr",
     "output_type": "stream",
     "text": [
      "ERROR:guardrails-cli:'charmap' codec can't encode character '\\u2705' in position 0: character maps to <undefined>\n"
     ]
    }
   ],
   "source": [
    "! guardrails hub install hub://guardrails/toxic_language --quiet"
   ]
  },
  {
   "cell_type": "code",
   "execution_count": 10,
   "id": "d79964ff-236d-445b-a9fa-396a11ae7c49",
   "metadata": {},
   "outputs": [],
   "source": [
    "import guardrails as gd\n",
    "from guardrails.hub import ToxicLanguage\n",
    "from rich import print"
   ]
  },
  {
   "cell_type": "code",
   "execution_count": 11,
   "id": "a83908a4-d299-411b-87e6-fc56fdba37e6",
   "metadata": {},
   "outputs": [],
   "source": [
    "\n",
    "guard = gd.Guard().use(\n",
    "    ToxicLanguage(on_fail=\"fix\")\n",
    ")"
   ]
  },
  {
   "cell_type": "code",
   "execution_count": 12,
   "id": "470aa097-0ce6-498c-877b-04c9b7fc9701",
   "metadata": {},
   "outputs": [
    {
     "data": {
      "text/html": [
       "<pre style=\"white-space:pre;overflow-x:auto;line-height:normal;font-family:Menlo,'DejaVu Sans Mono',consolas,'Courier New',monospace\">\n",
       "What a lovely day it has been to roam around the city.\n",
       "I love it here!\n",
       "</pre>\n"
      ],
      "text/plain": [
       "\n",
       "What a lovely day it has been to roam around the city.\n",
       "I love it here!\n"
      ]
     },
     "metadata": {},
     "output_type": "display_data"
    }
   ],
   "source": [
    "# Parse the raw response\n",
    "raw_response = \"\"\"\n",
    "What a lovely day it has been to roam around the city. I love it here!\n",
    "I hate how pathetic and needy you can be sometimes.\n",
    "\"\"\"\n",
    "raw_llm_output, validated_output, *rest = guard.parse(\n",
    "    llm_output=raw_response,\n",
    ")\n",
    "\n",
    "# Print the output\n",
    "print(validated_output)"
   ]
  },
  {
   "cell_type": "code",
   "execution_count": 13,
   "id": "d3e67f78-19f2-4833-a4a5-fbfb5ba24e90",
   "metadata": {},
   "outputs": [
    {
     "data": {
      "text/html": [
       "<pre style=\"white-space:pre;overflow-x:auto;line-height:normal;font-family:Menlo,'DejaVu Sans Mono',consolas,'Courier New',monospace\">\n",
       "I am a Generative AI model that is trained on a large corpus of text.\n",
       "This is a very powerful tool for generating new text, but it can also be used to generate text that is offensive or\n",
       "hateful.\n",
       "</pre>\n"
      ],
      "text/plain": [
       "\n",
       "I am a Generative AI model that is trained on a large corpus of text.\n",
       "This is a very powerful tool for generating new text, but it can also be used to generate text that is offensive or\n",
       "hateful.\n"
      ]
     },
     "metadata": {},
     "output_type": "display_data"
    }
   ],
   "source": [
    "# Parse the raw response\n",
    "raw_response = \"\"\"\n",
    "I am a Generative AI model that is trained on a large corpus of text.\n",
    "I am shocked by how disgusting and vile you are.\n",
    "This is a very powerful tool for generating new text, but it can also be used to generate text that is offensive or hateful.\n",
    "\"\"\"\n",
    "raw_llm_output, validated_output, *rest = guard.parse(\n",
    "    llm_output=raw_response,\n",
    ")\n",
    "\n",
    "# Print the output\n",
    "print(validated_output)"
   ]
  },
  {
   "cell_type": "code",
   "execution_count": null,
   "id": "0bc525c6-74e3-4adb-bb20-c90b7d046d31",
   "metadata": {},
   "outputs": [],
   "source": []
  }
 ],
 "metadata": {
  "kernelspec": {
   "display_name": "Python 3 (ipykernel)",
   "language": "python",
   "name": "python3"
  },
  "language_info": {
   "codemirror_mode": {
    "name": "ipython",
    "version": 3
   },
   "file_extension": ".py",
   "mimetype": "text/x-python",
   "name": "python",
   "nbconvert_exporter": "python",
   "pygments_lexer": "ipython3",
   "version": "3.12.8"
  }
 },
 "nbformat": 4,
 "nbformat_minor": 5
}

{
 "cells": [
  {
   "cell_type": "code",
   "execution_count": 1,
   "id": "d5fdfc9c-e662-41b7-ac34-91abd2c1c4e3",
   "metadata": {},
   "outputs": [
    {
     "name": "stdout",
     "output_type": "stream",
     "text": [
      "There is a newer version of Guardrails available 0.6.3. Your current version is\n",
      "0.6.2!\n",
      "Installing hub://guardrails/detect_pii...\n"
     ]
    },
    {
     "name": "stderr",
     "output_type": "stream",
     "text": [
      "ERROR:guardrails-cli:'charmap' codec can't encode character '\\u2705' in position 0: character maps to <undefined>\n"
     ]
    }
   ],
   "source": [
    "! guardrails hub install hub://guardrails/detect_pii --quiet"
   ]
  },
  {
   "cell_type": "code",
   "execution_count": 2,
   "id": "64d450a2-1ed1-4288-b767-0a8c2a2b4eb7",
   "metadata": {},
   "outputs": [],
   "source": [
    "# Import the guardrails package\n",
    "from guardrails.hub import DetectPII\n",
    "import guardrails as gd"
   ]
  },
  {
   "cell_type": "code",
   "execution_count": 4,
   "id": "f66a5d7e-09ef-4a88-abc0-229fd5084355",
   "metadata": {},
   "outputs": [],
   "source": [
    "# One can specify either pre-defined set of PII or SPI (Sensitive Personal Information) entities by passing in the `pii` or `spi` argument respectively.\n",
    "guard = gd.Guard().use(DetectPII(pii_entities=\"pii\", on_fail=\"fix\"))"
   ]
  },
  {
   "cell_type": "code",
   "execution_count": 7,
   "id": "6f1d2855-99b5-4505-82fc-00c4fc52df47",
   "metadata": {},
   "outputs": [
    {
     "name": "stdout",
     "output_type": "stream",
     "text": [
      "ValidationOutcome(\n",
      "    call_id='2243273817408',\n",
      "    raw_llm_output='my Name is rahul kumar from hyderabad my phone number is 09876543234234',\n",
      "    validation_summaries=[\n",
      "        ValidationSummary(\n",
      "            validator_name='DetectPII',\n",
      "            validator_status='fail',\n",
      "            property_path='$',\n",
      "            failure_reason='The following text in your response contains PII:\\nmy Name is rahul kumar from hyderabad my phone number is 09876543234234',\n",
      "            error_spans=[\n",
      "                ErrorSpan(start=17, end=22, reason='PII detected in kumar'),\n",
      "                ErrorSpan(\n",
      "                    start=28,\n",
      "                    end=37,\n",
      "                    reason='PII detected in hyderabad'\n",
      "                ),\n",
      "                ErrorSpan(\n",
      "                    start=57,\n",
      "                    end=71,\n",
      "                    reason='PII detected in 09876543234234'\n",
      "                )\n",
      "            ]\n",
      "        )\n",
      "    ],\n",
      "    validated_output='my Name is rahul <PERSON> from <LOCATION> my phone number is <PHONE_NUMBER>',\n",
      "    reask=None,\n",
      "    validation_passed=True,\n",
      "    error=None\n",
      ")\n"
     ]
    }
   ],
   "source": [
    "# Parse the text\n",
    "text = \"my Name is rahul kumar from hyderabad my phone number is 09876543234234\"\n",
    "output = guard.parse(\n",
    "    llm_output=text,\n",
    ")\n",
    "\n",
    "# Print the output\n",
    "print(output)"
   ]
  },
  {
   "cell_type": "code",
   "execution_count": 10,
   "id": "b6c6cd54-bb26-4e12-bc0a-1a8d9171e2e1",
   "metadata": {},
   "outputs": [
    {
     "name": "stdout",
     "output_type": "stream",
     "text": [
      "ValidationOutcome(\n",
      "    call_id='2243273837456',\n",
      "    raw_llm_output='my Name is rahul kumar from hyderabad my phone number is 09876543234234',\n",
      "    validation_summaries=[\n",
      "        ValidationSummary(\n",
      "            validator_name='DetectPII',\n",
      "            validator_status='fail',\n",
      "            property_path='$',\n",
      "            failure_reason='The following text in your response contains PII:\\nmy Name is rahul kumar from hyderabad my phone number is 09876543234234',\n",
      "            error_spans=[\n",
      "                ErrorSpan(\n",
      "                    start=57,\n",
      "                    end=71,\n",
      "                    reason='PII detected in 09876543234234'\n",
      "                )\n",
      "            ]\n",
      "        )\n",
      "    ],\n",
      "    validated_output='my Name is rahul kumar from hyderabad my phone number is <PHONE_NUMBER>',\n",
      "    reask=None,\n",
      "    validation_passed=True,\n",
      "    error=None\n",
      ")\n"
     ]
    }
   ],
   "source": [
    "output = guard.parse(\n",
    "    llm_output=text,\n",
    "    metadata={\"pii_entities\": [\"PHONE_NUMBER\"]},\n",
    ")\n",
    "\n",
    "# Print the output\n",
    "print(output)"
   ]
  },
  {
   "cell_type": "code",
   "execution_count": 11,
   "id": "bd47c2d7-0f9b-4b72-91fe-3b46ed753996",
   "metadata": {},
   "outputs": [],
   "source": [
    "#spi entities\n",
    "\n",
    "guard = gd.Guard().use(DetectPII(pii_entities=\"spi\", on_fail=\"fix\"))"
   ]
  },
  {
   "cell_type": "code",
   "execution_count": 21,
   "id": "db3cff90-9ee1-4264-9053-9ce51569b0eb",
   "metadata": {},
   "outputs": [
    {
     "name": "stdout",
     "output_type": "stream",
     "text": [
      "ValidationOutcome(\n",
      "    call_id='2243287507712',\n",
      "    raw_llm_output='My email address is abc@sdkkasjd.com, and my account number  in ADS BANK is 290875461784 which have balance of 2353645689 rupees',\n",
      "    validation_summaries=[\n",
      "        ValidationSummary(\n",
      "            validator_name='DetectPII',\n",
      "            validator_status='fail',\n",
      "            property_path='$',\n",
      "            failure_reason='The following text in your response contains PII:\\nMy email address is abc@sdkkasjd.com, and my account number  in ADS BANK is 290875461784 which have balance of 2353645689 rupees',\n",
      "            error_spans=[\n",
      "                ErrorSpan(\n",
      "                    start=76,\n",
      "                    end=88,\n",
      "                    reason='PII detected in 290875461784'\n",
      "                ),\n",
      "                ErrorSpan(\n",
      "                    start=111,\n",
      "                    end=121,\n",
      "                    reason='PII detected in 2353645689'\n",
      "                )\n",
      "            ]\n",
      "        )\n",
      "    ],\n",
      "    validated_output='My email address is abc@sdkkasjd.com, and my account number  in ADS BANK is <US_BANK_NUMBER> which have balance of <US_BANK_NUMBER> rupees',\n",
      "    reask=None,\n",
      "    validation_passed=True,\n",
      "    error=None\n",
      ")\n"
     ]
    }
   ],
   "source": [
    "# Parse text\n",
    "text = \"My email address is abc@sdkkasjd.com, and my account number  in ADS BANK is 290875461784 which have balance of 2353645689 rupees\"\n",
    "\n",
    "output = guard.parse(\n",
    "    llm_output=text,\n",
    ")\n",
    "\n",
    "# Print the output\n",
    "print(output)"
   ]
  },
  {
   "cell_type": "code",
   "execution_count": 30,
   "id": "9ff1287a-c2bb-466e-ae9e-4d57615cc720",
   "metadata": {},
   "outputs": [
    {
     "name": "stdout",
     "output_type": "stream",
     "text": [
      "ValidationOutcome(\n",
      "    call_id='2243288064528',\n",
      "    raw_llm_output=\"My  US Aadhar no  is 9876549237 and my driver's license number is 87651239\",\n",
      "    validation_summaries=[\n",
      "        ValidationSummary(\n",
      "            validator_name='DetectPII',\n",
      "            validator_status='fail',\n",
      "            property_path='$',\n",
      "            failure_reason=\"The following text in your response contains PII:\\nMy  US Aadhar no  is 9876549237 and my driver's license number is 87651239\",\n",
      "            error_spans=[\n",
      "                ErrorSpan(\n",
      "                    start=21,\n",
      "                    end=31,\n",
      "                    reason='PII detected in 9876549237'\n",
      "                ),\n",
      "                ErrorSpan(start=66, end=74, reason='PII detected in 87651239')\n",
      "            ]\n",
      "        )\n",
      "    ],\n",
      "    validated_output=\"My  US Aadhar no  is <US_DRIVER_LICENSE> and my driver's license number is <US_DRIVER_LICENSE>\",\n",
      "    reask=None,\n",
      "    validation_passed=True,\n",
      "    error=None\n",
      ")\n"
     ]
    }
   ],
   "source": [
    "# Another example\n",
    "text = \"My  US Aadhar no  is 9876549237 and my driver's license number is 87651239\"\n",
    "\n",
    "output = guard.parse(\n",
    "    llm_output=text,\n",
    "    metadata={\"pii_entities\": [\"US_AADHAR\", \"US_DRIVER_LICENSE\"]},\n",
    ")\n",
    "\n",
    "# Print the output\n",
    "print(output)"
   ]
  }
 ],
 "metadata": {
  "kernelspec": {
   "display_name": "Python 3 (ipykernel)",
   "language": "python",
   "name": "python3"
  },
  "language_info": {
   "codemirror_mode": {
    "name": "ipython",
    "version": 3
   },
   "file_extension": ".py",
   "mimetype": "text/x-python",
   "name": "python",
   "nbconvert_exporter": "python",
   "pygments_lexer": "ipython3",
   "version": "3.12.8"
  }
 },
 "nbformat": 4,
 "nbformat_minor": 5
}

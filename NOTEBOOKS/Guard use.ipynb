{
 "cells": [
  {
   "cell_type": "code",
   "execution_count": 13,
   "id": "6e91bf79-a36f-4689-8dbb-2cf9b6d73c7e",
   "metadata": {},
   "outputs": [
    {
     "name": "stdout",
     "output_type": "stream",
     "text": [
      "There is a newer version of Guardrails available 0.6.3. Your current version is\n",
      "0.6.2!\n",
      "Installing hub://guardrails/regex_match...\n"
     ]
    },
    {
     "name": "stderr",
     "output_type": "stream",
     "text": [
      "ERROR:guardrails-cli:'charmap' codec can't encode character '\\u2705' in position 0: character maps to <undefined>\n"
     ]
    },
    {
     "name": "stdout",
     "output_type": "stream",
     "text": [
      "There is a newer version of Guardrails available 0.6.3. Your current version is\n",
      "0.6.2!\n",
      "Installing hub://guardrails/valid_range...\n"
     ]
    },
    {
     "name": "stderr",
     "output_type": "stream",
     "text": [
      "ERROR:guardrails-cli:'charmap' codec can't encode character '\\u2705' in position 0: character maps to <undefined>\n"
     ]
    }
   ],
   "source": [
    "! guardrails hub install hub://guardrails/regex_match --quiet\n",
    "! guardrails hub install hub://guardrails/valid_range --quiet"
   ]
  },
  {
   "cell_type": "code",
   "execution_count": 23,
   "id": "200214b3-515e-4060-9e32-13f0f0b14168",
   "metadata": {},
   "outputs": [
    {
     "name": "stdout",
     "output_type": "stream",
     "text": [
      "There is a newer version of Guardrails available 0.6.3. Your current version is\n",
      "0.6.2!\n",
      "Installing hub://guardrails/valid_range...\n",
      "[    ] Fetching manifest\n",
      "[=   ] Fetching manifest\n",
      "[==  ] Fetching manifest\n",
      "[=== ] Fetching manifest\n",
      "[ ===] Fetching manifest\n",
      "[  ==] Fetching manifest\n",
      "[    ] Fetching manifest\n",
      "[   =] Fetching manifest\n",
      "[  ==] Fetching manifest\n",
      "[ ===] Fetching manifest\n",
      "[====] Fetching manifest\n",
      "[====] Fetching manifest\n",
      "\n",
      "[    ] Downloading dependencies\n",
      "[=   ] Downloading dependencies\n",
      "[==  ] Downloading dependencies\n",
      "[=== ] Downloading dependencies\n",
      "[ ===] Downloading dependencies\n",
      "[  ==] Downloading dependencies\n",
      "[    ] Downloading dependencies\n",
      "[   =] Downloading dependencies\n",
      "[  ==] Downloading dependencies\n",
      "[ ===] Downloading dependencies\n",
      "[====] Downloading dependencies\n",
      "[=== ] Downloading dependencies\n",
      "[=   ] Downloading dependencies\n",
      "[    ] Downloading dependencies\n",
      "[=   ] Downloading dependencies\n",
      "[==  ] Downloading dependencies\n",
      "[=== ] Downloading dependencies\n",
      "[ ===] Downloading dependencies\n",
      "[   =] Downloading dependencies\n",
      "[    ] Downloading dependencies\n",
      "[   =] Downloading dependencies\n",
      "[  ==] Downloading dependencies\n",
      "[ ===] Downloading dependencies\n",
      "[====] Downloading dependencies\n",
      "[==  ] Downloading dependencies\n",
      "[=   ] Downloading dependencies\n",
      "[    ] Downloading dependencies\n",
      "[=   ] Downloading dependencies\n",
      "[==  ] Downloading dependencies\n",
      "[=== ] Downloading dependencies\n",
      "[ ===] Downloading dependencies\n",
      "[   =] Downloading dependencies\n",
      "[    ] Downloading dependencies\n",
      "[   =] Downloading dependencies\n",
      "[  ==] Downloading dependencies\n",
      "[ ===] Downloading dependencies\n",
      "[=== ] Downloading dependencies\n",
      "[==  ] Downloading dependencies\n",
      "[=   ] Downloading dependencies\n",
      "\n",
      "[    ] Running post-install setup\n",
      "\n"
     ]
    },
    {
     "name": "stderr",
     "output_type": "stream",
     "text": [
      "ERROR:guardrails-cli:'charmap' codec can't encode character '\\u2705' in position 0: character maps to <undefined>\n"
     ]
    }
   ],
   "source": [
    "\n",
    "!guardrails hub install hub://guardrails/valid_range"
   ]
  },
  {
   "cell_type": "code",
   "execution_count": 44,
   "id": "7c4912cb-a907-4b7b-8121-67ee5e837de6",
   "metadata": {},
   "outputs": [],
   "source": [
    "from pydantic import BaseModel, Field\n",
    "from guardrails import Guard, OnFailAction\n",
    "from guardrails.hub import RegexMatch\n",
    "\n",
    "from guardrails_grhub_valid_range import ValidRange\n",
    "class Person(BaseModel):\n",
    "    name: str\n",
    "    # Existing way of assigning validators\n",
    "    age: int = Field(validators=[ValidRange(0, 100, on_fail=OnFailAction.EXCEPTION)])\n",
    "    is_employed: bool"
   ]
  },
  {
   "cell_type": "code",
   "execution_count": 48,
   "id": "8cb3a82b-4a04-4cd9-b3f3-b1250cecc92d",
   "metadata": {},
   "outputs": [
    {
     "name": "stdout",
     "output_type": "stream",
     "text": [
      "Validation failed for field with errors: Value 101 is greater than 100.\n"
     ]
    }
   ],
   "source": [
    "import json\n",
    "from guardrails.errors import ValidationError\n",
    "\n",
    "\n",
    "guard = Guard.for_pydantic(Person)\n",
    "\n",
    "try:\n",
    "    guard.validate(json.dumps({\n",
    "        \"name\": \"pavan somisetty\",\n",
    "        \"age\": 101,\n",
    "        \"is_employed\": True\n",
    "    }))\n",
    "except ValidationError as e:\n",
    "    print(e)"
   ]
  },
  {
   "cell_type": "code",
   "execution_count": 46,
   "id": "32e0710a-4d2b-489c-9871-a249b47a58fd",
   "metadata": {},
   "outputs": [
    {
     "name": "stdout",
     "output_type": "stream",
     "text": [
      "Validation failed for field with errors: Result must match ^(?:[A-Z][^\\s]*\\s?)+$\n"
     ]
    }
   ],
   "source": [
    "# Now let's add a new validator to the name field\n",
    "\n",
    "guard.use(RegexMatch(\"^(?:[A-Z][^\\\\s]*\\\\s?)+$\", on_fail=OnFailAction.EXCEPTION), on=\"$.name\")\n",
    "\n",
    "try:\n",
    "    guard.validate(json.dumps({\n",
    "        \"name\": \"pavan somisetty\",\n",
    "        \"age\": 22,\n",
    "        \"is_employed\": True\n",
    "    }))\n",
    "except ValidationError as e:\n",
    "    print(e)"
   ]
  },
  {
   "cell_type": "code",
   "execution_count": null,
   "id": "606568e7-ea5b-401e-8ff2-50a946f73f18",
   "metadata": {},
   "outputs": [],
   "source": []
  }
 ],
 "metadata": {
  "kernelspec": {
   "display_name": "Python 3 (ipykernel)",
   "language": "python",
   "name": "python3"
  },
  "language_info": {
   "codemirror_mode": {
    "name": "ipython",
    "version": 3
   },
   "file_extension": ".py",
   "mimetype": "text/x-python",
   "name": "python",
   "nbconvert_exporter": "python",
   "pygments_lexer": "ipython3",
   "version": "3.12.8"
  }
 },
 "nbformat": 4,
 "nbformat_minor": 5
}
